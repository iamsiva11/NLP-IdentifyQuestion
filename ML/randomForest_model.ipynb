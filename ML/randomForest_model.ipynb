{
 "cells": [
  {
   "cell_type": "code",
   "execution_count": 3,
   "metadata": {
    "collapsed": true
   },
   "outputs": [],
   "source": [
    "# Necessary Imports\n",
    "import pandas as pd\n",
    "import numpy as np"
   ]
  },
  {
   "cell_type": "code",
   "execution_count": 4,
   "metadata": {
    "collapsed": false
   },
   "outputs": [],
   "source": [
    "# Load Data\n",
    "def load_data(csv_file):\n",
    "    names = [\"question\", \"type\"]\n",
    "    dataset_all = pd.read_csv(csv_file,names=names)\n",
    "    return dataset_all\n",
    "\n",
    "dataset_all = load_data('nikiai_train.csv')"
   ]
  },
  {
   "cell_type": "code",
   "execution_count": 13,
   "metadata": {
    "collapsed": false
   },
   "outputs": [
    {
     "data": {
      "text/html": [
       "<div>\n",
       "<table border=\"1\" class=\"dataframe\">\n",
       "  <thead>\n",
       "    <tr style=\"text-align: right;\">\n",
       "      <th></th>\n",
       "      <th>question</th>\n",
       "      <th>type</th>\n",
       "    </tr>\n",
       "  </thead>\n",
       "  <tbody>\n",
       "    <tr>\n",
       "      <th>0</th>\n",
       "      <td>how did serfdom develop in and then leave russ...</td>\n",
       "      <td>unknown</td>\n",
       "    </tr>\n",
       "    <tr>\n",
       "      <th>1</th>\n",
       "      <td>what films featured the character popeye doyle ?</td>\n",
       "      <td>what</td>\n",
       "    </tr>\n",
       "    <tr>\n",
       "      <th>2</th>\n",
       "      <td>how can i find a list of celebrities ' real na...</td>\n",
       "      <td>unknown</td>\n",
       "    </tr>\n",
       "    <tr>\n",
       "      <th>3</th>\n",
       "      <td>what fowl grabs the spotlight after the chines...</td>\n",
       "      <td>what</td>\n",
       "    </tr>\n",
       "    <tr>\n",
       "      <th>4</th>\n",
       "      <td>what is the full form of .com ?</td>\n",
       "      <td>what</td>\n",
       "    </tr>\n",
       "  </tbody>\n",
       "</table>\n",
       "</div>"
      ],
      "text/plain": [
       "                                            question     type\n",
       "0  how did serfdom develop in and then leave russ...  unknown\n",
       "1  what films featured the character popeye doyle ?      what\n",
       "2  how can i find a list of celebrities ' real na...  unknown\n",
       "3  what fowl grabs the spotlight after the chines...     what\n",
       "4                   what is the full form of .com ?      what"
      ]
     },
     "execution_count": 13,
     "metadata": {},
     "output_type": "execute_result"
    }
   ],
   "source": [
    "# Peek into the Data\n",
    "dataset_all.head(5)"
   ]
  },
  {
   "cell_type": "code",
   "execution_count": 16,
   "metadata": {
    "collapsed": false
   },
   "outputs": [
    {
     "name": "stdout",
     "output_type": "stream",
     "text": [
      "Shape - (1483, 2)\n"
     ]
    }
   ],
   "source": [
    "print(\"Shape - {}\").format(dataset_all.shape)"
   ]
  },
  {
   "cell_type": "code",
   "execution_count": 21,
   "metadata": {
    "collapsed": false
   },
   "outputs": [],
   "source": [
    "# Preapre data - get features and labels\n",
    "def preapre_data(dataset_all):\n",
    "    dataset=dataset_all.values\n",
    "    X_Train = dataset[:,0]\n",
    "    Y_Train = dataset[:,1]\n",
    "    return  X_Train, Y_Train\n",
    "\n",
    "X_Train, Y_Train = preapre_data(dataset_all)"
   ]
  },
  {
   "cell_type": "code",
   "execution_count": 22,
   "metadata": {
    "collapsed": false
   },
   "outputs": [
    {
     "name": "stdout",
     "output_type": "stream",
     "text": [
      "['how did serfdom develop in and then leave russia ? '\n",
      " 'what films featured the character popeye doyle ? '\n",
      " \"how can i find a list of celebrities ' real names ? \"\n",
      " 'what fowl grabs the spotlight after the chinese year of the monkey ? '\n",
      " 'what is the full form of .com ? '\n",
      " 'what contemptible scoundrel stole the cork from my lunch ? '\n",
      " \"what team did baseball 's st. louis browns become ? \"\n",
      " 'what is the oldest profession ? ' 'what are liver enzymes ? '\n",
      " 'name the scar-faced bounty hunter of the old west . ']\n",
      "['unknown' 'what' 'unknown' 'what' 'what' 'what' 'what' 'what' 'what'\n",
      " 'unknown']\n"
     ]
    }
   ],
   "source": [
    "print X_Train[:10]\n",
    "print Y_Train[:10]"
   ]
  },
  {
   "cell_type": "code",
   "execution_count": 38,
   "metadata": {
    "collapsed": false
   },
   "outputs": [],
   "source": [
    "# Clean Data\n",
    "def remove_questionmark(slist):\n",
    "    new_x = []\n",
    "    for x in slist:\n",
    "         new_x.append(x.replace(\"?\",\"\"))\n",
    "    return new_x\n",
    "    \n",
    "X_Train = remove_questionmark(X_Train)\n",
    "X_Train = map(str.rstrip,X_Train)\n",
    "\n",
    "from string import digits\n",
    "\n",
    "def remove_numbers(slist):\n",
    "    res = map(lambda x: x.translate(None, digits), slist)\n",
    "    return res\n",
    "\n",
    "X_Train = remove_numbers(X_Train)"
   ]
  },
  {
   "cell_type": "code",
   "execution_count": 49,
   "metadata": {
    "collapsed": true
   },
   "outputs": [],
   "source": [
    "# Encode labels\n",
    "from sklearn.preprocessing import LabelEncoder\n",
    "\n",
    "def encode_lables(Y_Train):\n",
    "    encoder = LabelEncoder()\n",
    "    encoder.fit(Y_Train)\n",
    "    encoded_y = encoder.transform(Y_Train)\n",
    "    return  encoder, encoded_y\n",
    "\n",
    "encoder, encoded_y = encode_lables(Y_Train)"
   ]
  },
  {
   "cell_type": "code",
   "execution_count": 41,
   "metadata": {
    "collapsed": true
   },
   "outputs": [],
   "source": [
    "from sklearn.feature_extraction.text import CountVectorizer\n",
    "\n",
    "def vectorise_featres(X_Train):\n",
    "    vectorizer = CountVectorizer(analyzer=\"word\", preprocessor=None, tokenizer=None, stop_words=None, max_features=5000)\n",
    "    train_data_features = vectorizer.fit_transform(X_Train)\n",
    "    # Numpy arrays are easy to work with, so convert the result to an array\n",
    "    train_data_features = train_data_features.toarray()\n",
    "    return vectorizer, train_data_features\n",
    "\n",
    "vectorizer, train_data_features = vectorise_featres(X_Train)"
   ]
  },
  {
   "cell_type": "code",
   "execution_count": 42,
   "metadata": {
    "collapsed": false
   },
   "outputs": [
    {
     "name": "stdout",
     "output_type": "stream",
     "text": [
      "[0 0 0 ..., 0 0 0]\n",
      "The dimension of train_data_features is (1483, 3525).\n"
     ]
    }
   ],
   "source": [
    "# Exploring the vectorised features\n",
    "print train_data_features[0]\n",
    "print('The dimension of train_data_features is {}.'.format(train_data_features.shape))"
   ]
  },
  {
   "cell_type": "code",
   "execution_count": 43,
   "metadata": {
    "collapsed": false
   },
   "outputs": [
    {
     "name": "stdout",
     "output_type": "stream",
     "text": [
      "[u'abbie', u'abbreviated', u'abbreviation', u'abby', u'abilities', u'abolished', u'abominable', u'about', u'academy', u'acceptance', u'access', u'accessory', u'accident', u'accidents', u'accommodate', u'accompanied', u'accompanying', u'according', u'account', u'accurate', u'accurately', u'acetylsalicylic', u'acid', u'acreage', u'across', u'act', u'acted', u'actor', u'actress', u'actual', u'ad', u'adam', u'add', u'adding', u'address', u'addresses', u'adenauer', u'administration', u'admiral', u'admit', u'admitted', u'admonition', u'ads', u'adult', u'advanced', u'adventures', u'adventuring', u'advertise', u'advertised', u'advertizing', u'advised', u'aerodynamics', u'aeul', u'affairs', u'affectionate', u'afghanistan', u'africa', u'after', u'against', u'age', u'aged', u'agency', u'ago', u'agree', u'ahead', u'aids', u'aim', u'air', u'airborne', u'airplane', u'airport', u'airports', u'airwaves', u'akita', u'al', u'alaska', u'albert', u'album', u'aldous', u'aldrin', u'ali', u'alice', u'alive', u'all', u'allah', u'alleged', u'alley', u'alliance', u'allowed', u'ally', u'almanac', u'almost', u'alone', u'also', u'alternator', u'alvin', u'always', u'alyssa', u'am', u'ambassador', u'ambassadorial', u'amendment', u'america', u'american', u'americans', u'americas', u'amherst', u'amish', u'amphibians', u'amtrak', u'an', u'analysis', u'and', u'andress', u'andrew', u'andrews', u'andy', u'angel', u'angeles', u'angels', u'angles', u'animal', u'animals', u'annotated', u'announced', u'anopheles', u'another', u'answers', u'antarctica', u'ante', u'anthem', u'anthony', u'antichrist', u'antidisestablishmentarianism', u'antimicrobial', u'antonio', u'any', u'anyone', u'anzus', u'apartment', u'apollo', u'apparel', u'appear', u'appearances', u'appeared', u'apples', u'appliance', u'applied', u'appoint', u'appointed', u'approaches', u'approaching', u'apricot', u'april', u'arabian', u'arch', u'architect', u'architecture', u'archy', u'arctic', u'are', u'area', u'areas', u'arkansas', u'arma', u'arms', u'army', u'arnold', u'arometherapy', u'around', u'arrive', u'art', u'artemis', u'arthur', u'articles', u'artificial', u'artist', u'artists', u'arts', u'as', u'asian', u'ask', u'asked', u'assassinate', u'assassinated', u'assassination', u'associated', u'associates', u'association', u'astaire', u'astro', u'astronaut', u'astronauts', u'astronomical', u'at', u'atari', u'athlete', u'atlantic', u'atop', u'attack', u'attacked', u'attacks', u'attempts', u'attend', u'attendant', u'attic', u'attractions', u'attracts', u'auberge', u'august', u'australia', u'author', u'authorities', u'auto', u'autobiography', u'autoimmune', u'automatically', u'automobile', u'available', u'average', u'award', u'awarded', u'awards', u'away', u'aykroyd', u'babar', u'baby', u'bacall', u'back', u'background', u'backlight', u'bacon', u'badge', u'badger', u'bag', u'baggins', u'bake', u'baking', u'balance', u'ball', u'ballcock', u'ballots', u'balls', u'band', u'bank', u'banks', u'banned', u'banner', u'bar', u'barbados', u'barbara', u'barbie', u'bare', u'barney', u'barrier', u'barroom', u'bars', u'baseball', u'based', u'basophobic', u'basque', u'bastille', u'bathtub', u'batteries', u'battery', u'battle', u'battles', u'bay', u'bayer', u'be', u'beach', u'beanie', u'bear', u'beard', u'bears', u'beat', u'beatles', u'beaver', u'became', u'because', u'become', u'bee', u'been', u'beer', u'beers', u'bees', u'beethoven', u'before', u'began', u'begin', u'begins', u'behind', u'being', u'belgium', u'believe', u'believed', u'belong', u'below', u'belt', u'belushi', u'ben', u'bends', u'benelux', u'benson', u'bergeres', u'berlin', u'bernstein', u'bert', u'besides', u'best', u'bet', u'betrayed', u'betsy', u'bette', u'betting', u'betty', u'between', u'bible', u'bibles', u'bibliography', u'bic', u'bicornate', u'big', u'biggest', u'bilbo', u'bill', u'billie', u'billy', u'bingo', u'biography', u'bird', u'birds', u'birth', u'birthday', u'birthstone', u'bite', u'bjorn', u'black', u'blackhawk', u'blacks', u'bladerunner', u'blasted', u'bleach', u'blind', u'blobbo', u'blood', u'bloom', u'blowing', u'blue', u'blush', u'board', u'boards', u'boardwalk', u'boasts', u'boat', u'bob', u'bobby', u'body', u'bog', u'bogart', u'bogs', u'boheme', u'bomb', u'bombay', u'bombing', u'bond', u'bone', u'bonnie', u'boob', u'book', u'books', u'boop', u'booth', u'border', u'borders', u'borg', u'boris', u'born', u'borrow', u'borrower', u'bosch', u'boston', u'bottle', u'bottles', u'bottom', u'bought', u'bounty', u'bow', u'bowl', u'bowling', u'bowls', u'box', u'boxing', u'boy', u'boyfriend', u'boys', u'bph', u'bra', u'brand', u'brandenburg', u'braun', u'brave', u'brazil', u'bread', u'breed', u'breeding', u'bremer', u'brick', u'bricks', u'bridge', u'brief', u'brigham', u'brightest', u'brimstone', u'bring', u'british', u'broadcast', u'broadcasting', u'broadway', u'broke', u'broken', u'brontosauruses', u'bronze', u'brooks', u'bros', u'brother', u'brothers', u'brought', u'brown', u'browns', u'browser', u'brush', u'budweis', u'buffalo', u'bug', u'bugs', u'build', u'building', u'built', u'bulb', u'bulgaricus', u'bull', u'bulletin', u'bulls', u'bullwinkle', u'bunch', u'bundle', u'bureau', u'buried', u'burnding', u'burned', u'burner', u'burnt', u'buses', u'bush', u'busiest', u'business', u'but', u'butch', u'butler', u'buy', u'buzz', u'by', u'byzantine', u'cab', u'cabinet', u'cable', u'caesar', u'caffeinated', u'caffeine', u'cage', u'caine', u'cairo', u'calcium', u'calculator', u'caldera', u'calibrate', u'california', u'call', u'called', u'callosum', u'calluses', u'calories', u'calypso', u'camaro', u'camcorders', u'came', u'camp', u'camps', u'can', u'canada', u'canal', u'cancer', u'canfield', u'canon', u'canonize', u'cans', u'canyon', u'cap', u'capital', u'capp', u'captain', u'car', u'carafe', u'card', u'cards', u'care', u'career', u'caribbean', u'carl', u'carol', u'carolina', u'carolingian', u'carrier', u'cars', u'carson', u'carta', u'cartoon', u'cartoons', u'casablanca', u'cascade', u'case', u'cash', u'casinos', u'cassidey', u'casting', u'castle', u'cat', u'catherine', u'catholic', u'caused', u'causes', u'causing', u'cbs', u'cc', u'cd', u'cds', u'ceiling', u'ceilings', u'celebrated', u'celebrities', u'cello', u'cells', u'celsius', u'cement', u'cent', u'center', u'central', u'cents', u'century', u'certainly', u'certified', u'cervantes', u'chain', u'chair', u'chairbound', u'chairman', u'chairs', u'challengers', u'champion', u'champions', u'championship', u'chancellor', u'chapel', u'chapman', u'chappellet', u'chapter', u'character', u'characters', u'characterstics', u'charles', u'charlie', u'check', u'checkmate', u'cheeks', u'chemicals', u'chernobyl', u'chesapeake', u'chess', u'chessboard', u'chest', u'chevrolet', u'chicago', u'chicken', u'chickens', u'chicks', u'chief', u'chihuahuas', u'child', u'children', u'china', u'chinese', u'chivington', u'chocolate', u'chocolates', u'chomper', u'choose', u'chops', u'chris', u'christ', u'christian', u'christmas', u'christopher', u'chromosome', u'chronic', u'church', u'churchill', u'cigarette', u'cincinnati', u'cinderslut', u'cinzano', u'circle', u'circumcision', u'circumnavigator', u'cities', u'citizen', u'city', u'civil', u'claim', u'claimed', u'claims', u'clark', u'classic', u'classical', u'classified', u'claus', u'clean', u'cleaner', u'clear', u'cleveland', u'cliff', u'climb', u'clip', u'clitoris', u'clock', u'clockwise', u'closed', u'closest', u'closing', u'clothes', u'clothing', u'club', u'cnn', u'co', u'coach', u'coal', u'cobain', u'cocaine', u'cockroaches', u'cocktail', u'coffee', u'cognac', u'coin', u'coined', u'cold', u'coli', u'coliform', u'colin', u'collabrative', u'collect', u'collection', u'college', u'colleges', u'colonel', u'colonies', u'colony', u'color', u'colored', u'colors', u'colour', u'colt', u'columbia', u'columbus', u'com', u'comaneci', u'combinations', u'combustion', u'come', u'comediennes', u'comes', u'comic', u'comics', u'coming', u'command', u'commanded', u'commercial', u'commercially', u'commission', u'commissioner', u'committee', u'commodity', u'common', u'commonly', u'commune', u'community', u'companion', u'company', u'compatible', u'competitor', u'complete', u'composer', u'comprised', u'computer', u'conceived', u'concentration', u'concoct', u'concorde', u'condiment', u'conditioning', u'conditions', u'condor', u'conductor', u'cone', u'coney', u'confederate', u'confession', u'congress', u'congressman', u'connect', u'connected', u'connecticut', u'connection', u'conquered', u'conrad', u'conscious', u'consecutively', u'conservationist', u'considered', u'consist', u'constitution', u'constructed', u'contact', u'contains', u'contemptible', u'contents', u'contest', u'contestant', u'contract', u'control', u'convicted', u'cook', u'cooking', u'cooktop', u'cooktops', u'cookware', u'cooler', u'cooper', u'copier', u'copies', u'copper', u'coppertop', u'copyright', u'cord', u'cork', u'corn', u'coronado', u'corporal', u'corpus', u'correct', u'correctly', u'correspondent', u'cost', u'costa', u'costliest', u'costner', u'costs', u'costume', u'costumed', u'could', u'council', u'count', u'counterclockwise', u'countries', u'country', u'county', u'courage', u'course', u'cover', u'covrefeu', u'cowardly', u'cowboy', u'cows', u'craft', u'cranberry', u'create', u'created', u'creator', u'creature', u'credit', u'credited', u'creek', u'creeps', u'crew', u'crime', u'criminal', u'criminologist', u'crooner', u'crop', u'cross', u'crossword', u'crowd', u'crown', u'crows', u'crucifixion', u'crusaders', u'crust', u'cry', u'cuba', u'cube', u'cubic', u'cuckoo', u'cucumber', u'cupboard', u'curies', u'current', u'cushman', u'cut', u'cyberspace', u'cyclist', u'daily', u'dakota', u'dam', u'dame', u'damocles', u'damper', u'dan', u'dana', u'danced', u'dancing', u'dane', u'dangles', u'dannon', u'danube', u'danza', u'dare', u'darius', u'data', u'database', u'date', u'daughter', u'daughters', u'david', u'davies', u'davis', u'dawson', u'day', u'daycare', u'dbf', u'dc', u'de', u'dead', u'deadliest', u'deadwood', u'deal', u'dealing', u'dealt', u'dear', u'death', u'debate', u'debut', u'decade', u'decathlon', u'december', u'deck', u'declared', u'deepest', u'deer', u'defects', u'defensive', u'define', u'definition', u'defrost', u'defunct', u'degas', u'degree', u'degrees', u'delaware', u'delilah', u'delivered', u'democratic', u'dena', u'dennis', u'dental', u'dentist', u'department', u'depreciates', u'depression', u'derogatory', u'desert', u'design', u'designate', u'desire', u'desmond', u'detect', u'detective', u'determine', u'determined', u'develop', u'developed', u'developmental', u'deveopment', u'device', u'devices', u'dew', u'diagnose', u'dialogue', u'diameter', u'diana', u'diane', u'diary', u'dick', u'dickens', u'dictator', u'did', u'die', u'died', u'diego', u'difference', u'different', u'dimensions', u'diminutive', u'dimmable', u'dinner', u'diplomacy', u'direct', u'directed', u'directions', u'director', u'directorial', u'disabilities', u'disaster', u'disc', u'discover', u'discovered', u'disease', u'diseases', u'dish', u'dishwasher', u'diskettes', u'display', u'disposable', u'distinct', u'distributions', u'dita', u'division', u'divorce', u'dna', u'do', u'docklands', u'doctor', u'doctorate', u'doctors', u'does', u'doesn', u'dog', u'dogs', u'dogsledding', u'dogtown', u'doing', u'dollar', u'dolphins', u'domestic', u'domestica', u'domesticated', u'dominica', u'dominoes', u'dominos', u'don', u'donated', u'done', u'doodyville', u'doonesbury', u'door', u'doris', u'dorsets', u'dose', u'dots', u'double', u'doughboys', u'dow', u'down', u'downdraft', u'downhill', u'doxat', u'doyle', u'dr', u'dracula', u'drake', u'draw', u'draws', u'dreamed', u'drier', u'drill', u'drills', u'drink', u'drip', u'drive', u'driveway', u'dropped', u'dropping', u'drops', u'dry', u'dryer', u'dryers', u'dt', u'dubbed', u'dubliners', u'ducats', u'duck', u'duct', u'dudley', u'duet', u'duke', u'dumbo', u'dummy', u'dumont', u'dumpty', u'during', u'dust', u'dwarf', u'dwarfs', u'dye', u'dyke', u'each', u'eagle', u'early', u'earn', u'earned', u'earns', u'ears', u'earth', u'easier', u'east', u'easter', u'eat', u'economists', u'ed', u'edberg', u'edge', u'editor', u'education', u'edward', u'edwin', u'eenty', u'efficient', u'egg', u'eiffel', u'einstein', u'either', u'ejaculation', u'el', u'elect', u'elected', u'election', u'electric', u'electricity', u'element', u'elements', u'elephant', u'elicit', u'elk', u'elm', u'else', u'email', u'embassy', u'embedded', u'emil', u'emperor', u'empire', u'employ', u'employee', u'enclose', u'enclosed', u'encyclopedia', u'end', u'ended', u'endurance', u'enemies', u'enemy', u'energy', u'engine', u'england', u'english', u'enlist', u'enough', u'entebbe', u'enter', u'entered', u'enterprise', u'enters', u'enzymes', u'episode', u'equal', u'equals', u'equator', u'equipment', u'equity', u'equivalent', u'era', u'erected', u'eriksen', u'ernie', u'erupt', u'eruption', u'eskimo', u'espionage', u'established', u'estate', u'eternity', u'ethel', u'ethology', u'etta', u'euchre', u'eunice', u'europe', u'european', u'euv', u'evaporate', u'event', u'events', u'ever', u'everest', u'evidence', u'example', u'exchange', u'excluded', u'excuse', u'executed', u'execution', u'exhibit', u'exist', u'expectant', u'expensive', u'expiration', u'explorer', u'explorers', u'export', u'expression', u'extant', u'extended', u'extension', u'extinct', u'extraordinary', u'exxon', u'eye', u'eyes', u'ezra', u'faber', u'face', u'faced', u'facial', u'facility', u'facts', u'fade', u'failure', u'fairground', u'fairy', u'faith', u'falwell', u'fame', u'family', u'famine', u'famous', u'famously', u'fans', u'fantastic', u'far', u'fare', u'farmer', u'farri', u'farrow', u'fast', u'fastener', u'faster', u'fastest', u'fat', u'fatal', u'father', u'fathom', u'fats', u'favorite', u'fax', u'fear', u'feature', u'featured', u'features', u'federal', u'feeling', u'feet', u'fein', u'felicity', u'felt', u'female', u'fences', u'fergie', u'fertile', u'festival', u'feynman', u'fiction', u'fictional', u'fiedler', u'field', u'fields', u'fifth', u'fight', u'file', u'files', u'fill', u'film', u'filmmakers', u'films', u'filter', u'filters', u'filthiest', u'find', u'finds', u'finger', u'fingers', u'finish', u'fire', u'fired', u'fireplace', u'firewall', u'first', u'fischer', u'fish', u'fit', u'five', u'fivepin', u'fixed', u'flags', u'flame', u'flatfish', u'flavor', u'flies', u'flight', u'flintstones', u'float', u'floods', u'florence', u'florida', u'flourish', u'flow', u'floyd', u'flush', u'fly', u'fodor', u'fogs', u'folic', u'folies', u'folk', u'followed', u'following', u'fondness', u'fontaine', u'food', u'fools', u'foot', u'football', u'footed', u'for', u'force', u'forced', u'forces', u'ford', u'forehand', u'forest', u'forged', u'forlead', u'form', u'formed', u'former', u'forms', u'fort', u'fortune', u'fossils', u'fought', u'foul', u'found', u'founded', u'founder', u'founders', u'founding', u'four', u'fourteenth', u'fourth', u'fowl', u'fox', u'fraction', u'france', u'francisco', u'frankenstein', u'franklin', u'fraze', u'fred', u'free', u'freezer', u'freleng', u'french', u'frequent', u'fresh', u'frickett', u'friend', u'frito', u'friz', u'from', u'front', u'frost', u'ft', u'fuel', u'full', u'function', u'fund', u'funeral', u'fungal', u'gained', u'gal', u'galapagos', u'gamble', u'game', u'games', u'gaming', u'gandhi', u'garden', u'garfield', u'garrett', u'garth', u'gas', u'gate', u'gates', u'gathering', u'gatsby', u'gaulle', u'gave', u'gay', u'gaza', u'geese', u'gehrig', u'gene', u'general', u'generals', u'generator', u'genesis', u'george', u'georgetown', u'gerald', u'germanic', u'germany', u'gestapo', u'get', u'getting', u'gettysburg', u'gfehmdaes', u'ghost', u'gibson', u'gillette', u'gina', u'girl', u'gitchee', u'give', u'given', u'gland', u'glass', u'glitters', u'global', u'globe', u'glowsticks', u'gm', u'go', u'goalie', u'god', u'goddamn', u'goddess', u'godfather', u'godiva', u'gods', u'gogh', u'going', u'gold', u'golden', u'goldfus', u'goldie', u'golf', u'golfer', u'golfers', u'golfing', u'good', u'goodall', u'gopher', u'gore', u'got', u'gotham', u'gothic', u'gould', u'government', u'governmental', u'governor', u'grabs', u'graced', u'grader', u'graders', u'gradual', u'grange', u'grant', u'granted', u'grape', u'grass', u'grate', u'gray', u'great', u'greatest', u'greek', u'green', u'greenland', u'grenada', u'grilled', u'grinch', u'gringo', u'ground', u'group', u'groups', u'grow', u'growing', u'guarantee', u'guess', u'guidance', u'guitarist', u'gulf', u'gumee', u'gummed', u'gunpowder', u'gustav', u'gutenberg', u'guys', u'gymnast', u'gymnophobia', u'hackers', u'had', u'hair', u'hairs', u'hajo', u'hall', u'halloween', u'hamblen', u'hamburgers', u'hamed', u'hamlet', u'hammer', u'hand', u'handed', u'handheld', u'handle', u'hands', u'happened', u'harbor', u'hard', u'hardest', u'hardware', u'harlow', u'harness', u'harriet', u'harrison', u'harry', u'harvey', u'has', u'hastings', u'hate', u'have', u'havoc', u'hawking', u'hawn', u'hayworth', u'hazmat', u'he', u'head', u'headed', u'headquartered', u'headquarters', u'healthy', u'hearing', u'hearst', u'heart', u'hearts', u'heat', u'heating', u'heaven', u'heavier', u'heavily', u'heavyweight', u'held', u'helen', u'helens', u'hemisphere', u'henry', u'her', u'herb', u'here', u'hermitage', u'hermits', u'hero', u'hiding', u'high', u'highest', u'highway', u'hijacked', u'hills', u'hilton', u'him', u'himself', u'hirohito', u'his', u'historical', u'history', u'hit', u'hitler', u'hits', u'hitting', u'hives', u'hm', u'hoffman', u'hold', u'holds', u'hole', u'holes', u'holiday', u'holidays', u'holland', u'hollywood', u'holmes', u'holy', u'home', u'homer', u'homes', u'honorary', u'hook', u'hooked', u'hooligans', u'hoover', u'horse', u'horses', u'horseshoes', u'hose', u'host', u'hostages', u'hotel', u'hotpoint', u'houdini', u'hour', u'house', u'household', u'houses', u'housewife', u'houston', u'how', u'hoya', u'hp', u'ht', u'hudson', u'hughes', u'hugo', u'hulk', u'human', u'humans', u'humbert', u'humidifier', u'humidity', u'humphrey', u'humpty', u'hungary', u'hunter', u'hunting', u'hurricane', u'husband', u'husbands', u'hussain', u'huxley', u'hyatt', u'hydrogen', u'hyenas', u'iberia', u'ibm', u'ice', u'if', u'iguana', u'ii', u'iii', u'illinois', u'image', u'imam', u'immortals', u'import', u'importer', u'in', u'inch', u'inches', u'include', u'included', u'includes', u'incompetent', u'increase', u'incredible', u'independence', u'india', u'indian', u'indians', u'indicator', u'indies', u'individuals', u'indonesia', u'inducted', u'induction', u'industry', u'infamous', u'infection', u'infectious', u'information', u'infront', u'inhabit', u'injection', u'injectors', u'injury', u'innings', u'inri', u'inside', u'inspector', u'inspiration', u'inspired', u'install', u'installed', u'instead', u'instrument', u'insurance', u'insured', u'intake', u'intelligence', u'intercourse', u'interesting', u'intergovernmental', u'internal', u'international', u'internet', u'interrupted', u'intestine', u'into', u'intractable', u'introduced', u'inuit', u'invade', u'invented', u'inventor', u'investigation', u'involved', u'ip', u'iq', u'iraqi', u'ireland', u'irish', u'irkutsk', u'iron', u'is', u'ishmael', u'isis', u'island', u'islands', u'isosceles', u'isps', u'israel', u'issue', u'isthmus', u'it', u'italian', u'italians', u'italy', u'item', u'its', u'itself', u'jack', u'jackie', u'james', u'jan', u'jane', u'janelle', u'january', u'japan', u'japanese', u'jaws', u'jayne', u'jean', u'jefferson', u'jellicle', u'jericho', u'jerry', u'jesus', u'jewish', u'jews', u'jimmy', u'jockey', u'joel', u'jogging', u'jogis', u'john', u'johnnie', u'johnny', u'johnson', u'join', u'joined', u'jolson', u'jones', u'jordan', u'journal', u'joyce', u'jpl', u'jr', u'judaism', u'jude', u'judge', u'judiciary', u'judith', u'judson', u'julie', u'jurassic', u'just', u'justin', u'kahn', u'kalahari', u'kamchatka', u'kane', u'kansas', u'karenna', u'karsh', u'kashmir', u'katie', u'keaton', u'keep', u'kenmore', u'kennedy', u'kentucky', u'kept', u'keratoma', u'kevin', u'keyboard', u'khyber', u'kid', u'kidnaped', u'kidnaping', u'kill', u'killed', u'killer', u'killing', u'kilroy', u'kimpo', u'kind', u'king', u'kingdom', u'kit', u'klondike', u'knobs', u'knock', u'know', u'known', u'knowpost', u'knox', u'konrad', u'korea', u'korean', u'kurt', u'kuwait', u'la', u'label', u'labels', u'labianca', u'labor', u'laboratory', u'lacan', u'lactobacillus', u'lady', u'lag', u'lagoon', u'lakes', u'land', u'landed', u'landing', u'langston', u'language', u'languages', u'lantern', u'laos', u'largest', u'las', u'laser', u'last', u'latin', u'latitude', u'laugh', u'lauren', u'law', u'lawn', u'lawnmower', u'lawsuit', u'lawyer', u'lay', u'layers', u'lead', u'leader', u'leaders', u'leading', u'leads', u'league', u'learning', u'least', u'leave', u'leaves', u'leaving', u'led', u'lee', u'left', u'legs', u'leia', u'lender', u'leno', u'less', u'let', u'lethal', u'letter', u'level', u'levels', u'leverkusen', u'liberated', u'liberty', u'lice', u'lickin', u'lie', u'life', u'lifesaver', u'lifting', u'light', u'lights', u'ligurian', u'like', u'liked', u'likely', u'limit', u'lincoln', u'lincolns', u'lindbergh', u'line', u'liner', u'lint', u'lion', u'lips', u'list', u'listeners', u'liston', u'literary', u'literature', u'little', u'live', u'lived', u'liver', u'lives', u'living', u'll', u'lo', u'load', u'lobster', u'located', u'lockerbie', u'loco', u'log', u'logan', u'logo', u'london', u'long', u'longest', u'longitude', u'longtime', u'look', u'looked', u'loop', u'lord', u'los', u'loss', u'lost', u'lou', u'loud', u'louie', u'louis', u'love', u'loved', u'lovely', u'lovers', u'low', u'lowest', u'lp', u'lsd', u'ltf', u'lucas', u'luck', u'lucky', u'luis', u'luke', u'lunch', u'lung', u'lust', u'lynmouth', u'lyrics', u'mac', u'macarthur', u'machine', u'machines', u'maclaine', u'macy', u'madding', u'made', u'madilyn', u'madonna', u'magic', u'magna', u'maid', u'maiden', u'mail', u'main', u'major', u'make', u'maker', u'makes', u'making', u'malaysia', u'malick', u'mall', u'malta', u'mama', u'mammal', u'man', u'manager', u'managing', u'manatees', u'mandrake', u'mandy', u'manned', u'mansfield', u'manuel', u'manufacturer', u'manufactures', u'many', u'mao', u'marbella', u'marbles', u'march', u'mare', u'margaret', u'maria', u'marion', u'maris', u'marked', u'market', u'marketed', u'markets', u'marks', u'marley', u'marlin', u'marlowe', u'marquesas', u'married', u'marry', u'martha', u'martian', u'martin', u'martyrs', u'marvel', u'marvin', u'marx', u'mary', u'maryland', u'mascot', u'massachusetts', u'massacre', u'master', u'masters', u'match', u'mathematician', u'matt', u'maudie', u'maurice', u'maurizio', u'maximo', u'may', u'mayor', u'maze', u'mcbeal', u'mccarren', u'mckinley', u'mcqueen', u'me', u'mean', u'meaning', u'meant', u'measured', u'medal', u'median', u'medical', u'medicine', u'medina', u'medium', u'mehitabel', u'mel', u'melancholy', u'member', u'members', u'memphis', u'men', u'menace', u'mentor', u'merchandise', u'mercury', u'message', u'met', u'metal', u'mexico', u'meyer', u'mia', u'miami', u'michael', u'michelangelo', u'michigan', u'micro', u'microsoft', u'middle', u'mideast', u'midwife', u'might', u'mighty', u'milano', u'mile', u'miles', u'milk', u'mill', u'millennium', u'million', u'millionaire', u'milo', u'milton', u'minimum', u'mining', u'minister', u'minor', u'minute', u'minutes', u'miss', u'missions', u'mississippi', u'missouri', u'mixable', u'moby', u'model', u'modem', u'modern', u'mojave', u'mold', u'molly', u'molybdenum', u'monarch', u'monet', u'money', u'mongol', u'monitor', u'monk', u'monkey', u'monopoly', u'monster', u'months', u'moo', u'moon', u'moorish', u'more', u'morgan', u'mormons', u'morning', u'mortem', u'mosaic', u'moscow', u'mosquito', u'most', u'mostly', u'mother', u'motion', u'motors', u'motto', u'mount', u'mountain', u'mountains', u'mounted', u'mourning', u'mouse', u'movement', u'movie', u'movies', u'moving', u'mozambique', u'mrs', u'much', u'muffins', u'muhammad', u'multicolored', u'munching', u'muppets', u'murder', u'murdered', u'murdock', u'musca', u'muscle', u'museum', u'music', u'musical', u'muslim', u'muslims', u'must', u'mustard', u'mutiny', u'my', u'myrtle', u'myth', u'mythological', u'nabokov', u'nadia', u'nafta', u'nails', u'naked', u'name', u'named', u'names', u'nanometer', u'naples', u'narragansett', u'nasdaq', u'naseem', u'national', u'nations', u'native', u'nato', u'nature', u'nazi', u'nazis', u'neanderthal', u'near', u'nebbish', u'nebraska', u'necessarily', u'need', u'needles', u'needs', u'neighbors', u'neither', u'nelson', u'neoclassical', u'nepal', u'nephew', u'nerve', u'network', u'neurological', u'neuromancer', u'nevada', u'never', u'new', u'newly', u'news', u'newscast', u'newspaper', u'next', u'nfl', u'nicholas', u'nicklaus', u'nickname', u'nicknamed', u'nicois', u'nicolet', u'nicolo', u'niece', u'night', u'nightingale', u'nightmare', u'nihilist', u'nile', u'nine', u'nino', u'nipsy', u'nixon', u'nj', u'nn', u'nnp', u'no', u'nobel', u'noble', u'noise', u'nomadic', u'nominations', u'nominee', u'nonaggression', u'nonchlorine', u'nonconsecutive', u'nor', u'nora', u'nordic', u'noriega', u'normal', u'north', u'northeast', u'northernmost', u'northwestern', u'norway', u'nostradamus', u'nostrum', u'not', u'nothing', u'notre', u'novel', u'novelist', u'november', u'now', u'nuclear', u'number', u'numbers', u'numerals', u'nun', u'nurse', u'nuts', u'oakland', u'oat', u'objects', u'obote', u'occupation', u'occupy', u'occur', u'ocean', u'oceans', u'octopus', u'oddsmaker', u'oem', u'of', u'off', u'office', u'offices', u'official', u'officially', u'often', u'oftentimes', u'ohio', u'oil', u'oilers', u'old', u'older', u'oldest', u'olestra', u'olsen', u'olympic', u'olympics', u'on', u'once', u'one', u'online', u'only', u'oop', u'open', u'opener', u'opera', u'operant', u'operating', u'operations', u'opposition', u'or', u'orange', u'orca', u'order', u'organization', u'organized', u'origin', u'original', u'originate', u'orinoco', u'orleans', u'orphans', u'osbourne', u'oscar', u'oscars', u'oswald', u'other', u'ottawa', u'ouija', u'ousted', u'out', u'outer', u'outlet', u'outside', u'ove', u'over', u'overflow', u'owe', u'own', u'owned', u'owner', u'owns', u'oxfords', u'oxidation', u'oz', u'ozzie', u'ozzy', u'pacific', u'packin', u'pact', u'paganini', u'page', u'pageant', u'paid', u'paint', u'paintball', u'painted', u'painter', u'painters', u'painting', u'pairs', u'palate', u'paleozoic', u'palpatine', u'pan', u'panama', u'pans', u'paper', u'paracetamol', u'parade', u'parasites', u'park', u'parked', u'parks', u'part', u'partner', u'party', u'paso', u'pass', u'passenger', u'passing', u'pasternak', u'patent', u'patented', u'patio', u'patricia', u'pay', u'pea', u'peace', u'peachy', u'peak', u'peanut', u'pearl', u'pearls', u'pecan', u'pecos', u'pellegrin', u'pencil', u'pendulum', u'penn', u'penned', u'pennsylvania', u'penny', u'people', u'percent', u'percentage', u'perfect', u'perfectly', u'performer', u'perfume', u'period', u'permanent', u'permitted', u'perpetually', u'person', u'personas', u'peter', u'petrified', u'pf', u'phenomenon', u'pheonix', u'philadelphia', u'philip', u'phoenix', u'phone', u'phonograph', u'photographer', u'physical', u'physics', u'pia', u'piano', u'pick', u'picked', u'pickering', u'picking', u'pictorial', u'picts', u'pictures', u'piece', u'pig', u'piggy', u'pilot', u'pilots', u'pine', u'pines', u'pink', u'pirate', u'pissarro', u'pistol', u'pit', u'pitcher', u'pizza', u'place', u'plan', u'planning', u'plant', u'plantar', u'planted', u'plants', u'plastic', u'play', u'played', u'player', u'players', u'playing', u'plays', u'plea', u'plo', u'plot', u'plural', u'pneumonia', u'poem', u'poems', u'poet', u'poets', u'point', u'points', u'pokemon', u'poker', u'pole', u'polenta', u'police', u'polio', u'pollen', u'pollution', u'polynesian', u'poop', u'poorly', u'pop', u'popcorn', u'pope', u'popeye', u'poppins', u'pops', u'popular', u'population', u'portly', u'portrait', u'portrayed', u'position', u'possible', u'post', u'postage', u'potential', u'potlatch', u'potter', u'pound', u'pounds', u'pour', u'powell', u'power', u'powerful', u'powers', u'powhatan', u'pr', u'practical', u'predators', u'prefix', u'pregnancy', u'prehistoric', u'prelude', u'premier', u'prepared', u'presided', u'president', u'presidential', u'presidents', u'pressure', u'prevent', u'prewitt', u'price', u'pride', u'primal', u'primary', u'prime', u'prince', u'princess', u'private', u'prize', u'pro', u'probability', u'process', u'procter', u'produced', u'producer', u'producers', u'produces', u'producing', u'product', u'products', u'profession', u'professional', u'professor', u'proficient', u'profits', u'project', u'promote', u'promoters', u'promotion', u'prompted', u'propaganda', u'prophet', u'proposition', u'protanopia', u'protect', u'protein', u'provide', u'provider', u'provides', u'provo', u'psi', u'pub', u'public', u'publish', u'published', u'puccini', u'pudding', u'pulaski', u'pulitzer', u'pull', u'pulls', u'punctuation', u'purchase', u'purchased', u'purpose', u'pusher', u'put', u'putty', u'pym', u'pyramid', u'qigong', u'quantity', u'quarterbacks', u'quarters', u'queen', u'question', u'questions', u'quetzalcoatl', u'quiet', u'quintillion', u'quit', u'quixote', u'rabbit', u'race', u'races', u'racism', u'racoon', u'radio', u'raid', u'raider', u'raiders', u'rail', u'railroad', u'railway', u'rain', u'rainbow', u'rainfall', u'raining', u'raise', u'ram', u'rams', u'randy', u'range', u'ranger', u'ranks', u'rann', u'rarest', u'rascals', u'rate', u'ratified', u'rawhide', u'ray', u'razor', u'rd', u're', u'reach', u'read', u'reading', u'real', u'reality', u'reason', u'recapture', u'receive', u'received', u'record', u'recorded', u'records', u'recruited', u'recycled', u'red', u'redford', u'redness', u'reed', u'referees', u'regarding', u'regenerate', u'register', u'registration', u'regulation', u'reign', u'reims', u'reinstate', u'relations', u'relationship', u'relative', u'relax', u'relevant', u'religion', u'removable', u'remove', u'removed', u'renoir', u'renown', u'rent', u'repealed', u'replace', u'replaced', u'replacement', u'replies', u'reports', u'representatives', u'represented', u'republic', u'reputed', u'require', u'requirement', u'requirements', u'reserve', u'resident', u'resignation', u'resource', u'responsible', u'resting', u'retired', u'retrievers', u'return', u'reunified', u'reuter', u'rev', u'review', u'revolution', u'revolutions', u'revolve', u'rey', u'rhine', u'rhode', u'rhodes', u'rhomboideus', u'ribavirin', u'rica', u'rice', u'rich', u'richard', u'ride', u'right', u'rights', u'ring', u'ringo', u'rings', u'riots', u'ripping', u'rita', u'rites', u'river', u'rivers', u'road', u'roasts', u'robert', u'robertson', u'robin', u'robinson', u'rock', u'rockefeller', u'rocks', u'rocky', u'rococo', u'rode', u'roger', u'rogers', u'role', u'rolfe', u'rolls', u'roman', u'romans', u'romanticism', u'rome', u'ron', u'roof', u'roosevelt', u'root', u'rosanna', u'rosanne', u'rose', u'rosemary', u'ross', u'rossner', u'rostropovich', u'rousseau', u'row', u'rowan', u'royal', u'royce', u'rubble', u'rubik', u'rule', u'rules', u'rum', u'run', u'running', u'runs', u'rupee', u'russell', u'russia', u'russian', u'sacred', u'safe', u'said', u'saint', u'sale', u'sales', u'salesman', u'sally', u'sam', u'same', u'samson', u'samuel', u'san', u'sang', u'santa', u'santos', u'sarge', u'satisfactory', u'saturday', u'saw', u'say', u'saying', u'says', u'scar', u'scares', u'scarlett', u'scars', u'scholar', u'school', u'schools', u'schoolteacher', u'schwarzenegger', u'scientology', u'score', u'scotland', u'scoundrel', u'scrabble', u'scratched', u'scream', u'screening', u'screens', u'screensaver', u'scrooge', u'sea', u'seaport', u'seas', u'season', u'seasons', u'seattle', u'second', u'secretary', u'section', u'securities', u'security', u'see', u'seed', u'sees', u'seized', u'seizure', u'select', u'selective', u'self', u'sell', u'seller', u'sells', u'senate', u'sensitive', u'sent', u'sentence', u'serfdom', u'series', u'seriously', u'serve', u'served', u'server', u'service', u'serving', u'set', u'setting', u'settled', u'settlement', u'seven', u'several', u'sewer', u'sexiest', u'shadows', u'shag', u'shaken', u'shakespeare', u'shall', u'shan', u'shape', u'share', u'shared', u'shark', u'sharks', u'sharon', u'sharp', u'shawn', u'she', u'shea', u'sheath', u'sheep', u'sheet', u'sheika', u'shelley', u'sherlock', u'shia', u'shiest', u'ship', u'shipment', u'shipping', u'shipyard', u'shirley', u'shirtwaist', u'shiver', u'shooting', u'shoplifts', u'shores', u'shorn', u'shortest', u'shortstop', u'shostakovich', u'shot', u'shots', u'should', u'shoulder', u'shouts', u'show', u'showed', u'shower', u'shown', u'shows', u'shroud', u'shrubs', u'sicily', u'sides', u'sids', u'sign', u'signature', u'signed', u'significant', u'silent', u'silk', u'silly', u'similar', u'simple', u'singer', u'singing', u'singles', u'sings', u'sink', u'sinn', u'sioux', u'sisley', u'sister', u'sisters', u'sistine', u'sitcom', u'site', u'six', u'size', u'sizes', u'skateboarding', u'skein', u'skin', u'skywalker', u'sleep', u'sleepless', u'slightly', u'slinky', u'slowest', u'small', u'smallest', u'snake', u'snap', u'snoogans', u'snoopy', u'snow', u'snowman', u'snyder', u'so', u'soap', u'soccer', u'social', u'society', u'soft', u'softball', u'sold', u'soldiers', u'solo', u'solomon', u'solve', u'some', u'someone', u'sometimes', u'somme', u'song', u'songs', u'sonnets', u'sonny', u'sons', u'sort', u'sought', u'sound', u'soup', u'source', u'south', u'southdowns', u'southern', u'soviet', u'space', u'spaces', u'spacewalk', u'spaghetti', u'spain', u'spangled', u'spanish', u'spare', u'speak', u'speaking', u'speaks', u'special', u'specializing', u'species', u'spectrum', u'speech', u'speed', u'spelling', u'spent', u'sperm', u'spermologer', u'spice', u'spider', u'spielberg', u'spill', u'spoke', u'spoken', u'spokesperson', u'spores', u'sport', u'sports', u'spotlight', u'sprawling', u'sprayed', u'springfield', u'spumante', u'spy', u'square', u'squares', u'ss', u'st', u'stack', u'stadium', u'stage', u'stagecoach', u'stages', u'stainless', u'stake', u'stalin', u'stalled', u'stamp', u'stand', u'standard', u'stands', u'stanford', u'star', u'stardom', u'stardust', u'starred', u'starring', u'stars', u'start', u'started', u'starts', u'state', u'states', u'station', u'stationed', u'statue', u'statues', u'steakburgers', u'steamboat', u'steel', u'stefan', u'stein', u'stephen', u'steps', u'stereo', u'stern', u'stethoscope', u'steve', u'steven', u'stewart', u'still', u'stirred', u'stock', u'stocks', u'stole', u'stone', u'stonehenge', u'stop', u'stopped', u'stopper', u'stops', u'story', u'stove', u'stoves', u'strange', u'stranger', u'street', u'stretch', u'stricken', u'strikes', u'strings', u'strip', u'strips', u'stroke', u'strong', u'stuart', u'stubborn', u'student', u'students', u'studios', u'study', u'style', u'styloid', u'substance', u'subway', u'succeed', u'success', u'successful', u'successfully', u'such', u'sued', u'suffer', u'suffrage', u'suite', u'sullen', u'summer', u'sun', u'sundance', u'sunday', u'sunnyside', u'super', u'superbowl', u'superman', u'superstar', u'supposed', u'supreme', u'surfboard', u'surname', u'surnames', u'surrounds', u'sussex', u'swampy', u'sweet', u'swimmer', u'swimming', u'swing', u'swiss', u'swmdca', u'symbol', u'syndrome', u'system', u'systems', u'tab', u'tabs', u'tabulates', u'taft', u'tails', u'taiwanese', u'take', u'takes', u'tale', u'talking', u'tallest', u'tammy', u'tank', u'tanker', u'tappan', u'taste', u'taught', u'team', u'tear', u'technical', u'technique', u'teddy', u'tee', u'teenage', u'teenager', u'telephone', u'television', u'temperature', u'temperatures', u'temple', u'ten', u'tend', u'tender', u'tennessee', u'tennis', u'tenpin', u'tent', u'term', u'termed', u'terms', u'terrence', u'terrific', u'territories', u'territory', u'terrorist', u'test', u'tested', u'tests', u'texas', u'th', u'thai', u'than', u'thank', u'thanksgiving', u'that', u'thatcher', u'the', u'their', u'them', u'theme', u'themes', u'then', u'theo', u'theory', u'therapy', u'there', u'thermador', u'these', u'they', u'thine', u'thing', u'think', u'thinking', u'third', u'this', u'thomas', u'thor', u'thought', u'three', u'through', u'throughout', u'throw', u'thucydides', u'thunder', u'ticker', u'ticket', u'tie', u'tiger', u'tim', u'time', u'times', u'tiny', u'tips', u'tirana', u'titanic', u'titanium', u'title', u'titled', u'to', u'toes', u'toilet', u'tokens', u'told', u'tolkien', u'toll', u'tom', u'tongue', u'tony', u'took', u'toothbrush', u'tootsie', u'top', u'topophobic', u'tornado', u'tornadoes', u'total', u'touchdowns', u'touched', u'tour', u'tourism', u'tourist', u'tourists', u'tout', u'touted', u'tower', u'toy', u'toys', u'tracking', u'traded', u'tradition', u'traffic', u'tragic', u'train', u'trans', u'transistor', u'transmitted', u'transplant', u'transport', u'transported', u'trash', u'travel', u'traveled', u'traversed', u'tree', u'treehouse', u'trek', u'triangle', u'tribe', u'tribes', u'tried', u'trilogy', u'trim', u'trinidad', u'trip', u'triple', u'troop', u'troops', u'tropical', u'truck', u'true', u'truth', u'try', u'trying', u'tube', u'tulip', u'tuner', u'turf', u'turin', u'turn', u'turned', u'turning', u'tutankhamun', u'tutu', u'tv', u'twice', u'twin', u'two', u'type', u'types', u'typewriter', u'typically', u'ulysses', u'un', u'unaccounted', u'under', u'unification', u'uniform', u'union', u'united', u'universal', u'university', u'unknown', u'unsafe', u'untamed', u'up', u'upon', u'uprising', u'ursula', u'us', u'usa', u'use', u'used', u'using', u'utah', u'vaccine', u'vacuum', u'valdez', u'valentine', u'valley', u'valuable', u'van', u'varian', u'variations', u'various', u'vbp', u'veal', u'vegas', u'vehicle', u'vent', u'ventilation', u'vents', u'ventura', u'venus', u'verify', u'vermouth', u'verses', u'very', u'vessel', u'veterans', u'via', u'viagra', u'vice', u'viceroy', u'vichy', u'vicks', u'victor', u'victoria', u'video', u'videotape', u'vienna', u'vietnam', u'vietnamese', u'viewing', u'viking', u'villain', u'villi', u'vincent', u'vineyard', u'violins', u'virginia', u'virtual', u'virtues', u'viscosity', u'visible', u'vladimir', u'voice', u'voting', u'vowel', u'voyage', u'voyager', u'wage', u'wakefield', u'walk', u'walker', u'wall', u'wallbanger', u'wallpaper', u'wander', u'wanna', u'want', u'war', u'warm', u'warmed', u'warn', u'warned', u'warner', u'warranty', u'wars', u'was', u'wash', u'washer', u'washington', u'watch', u'watchers', u'water', u'waterfall', u'watergate', u'way', u'ways', u'we', u'weakness', u'weaknesses', u'wealthiest', u'weapon', u'wear', u'wears', u'weather', u'web', u'website', u'wedding', u'week', u'weight', u'weir', u'well', u'wenceslas', u'went', u'were', u'werewolf', u'west', u'wet', u'wfwww', u'wgdsq', u'whale', u'what', u'wheat', u'wheatfield', u'wheel', u'when', u'where', u'which', u'while', u'whip', u'whirlpool', u'whisky', u'whitcomb', u'white', u'who', u'whoever', u'whom', u'whores', u'whose', u'why', u'wide', u'widely', u'wife', u'wiggins', u'wilbur', u'wild', u'wilder', u'wilding', u'will', u'william', u'williams', u'wilson', u'win', u'windows', u'windsor', u'wine', u'wines', u'wingspan', u'winners', u'winning', u'wins', u'winslow', u'winston', u'winter', u'wise', u'wished', u'with', u'without', u'witnesses', u'wives', u'wizard', u'wolfman', u'wolfsheim', u'woman', u'women', u'won', u'wonder', u'wonderbra', u'wonderland', u'wood', u'woodpecker', u'woodrow', u'woody', u'wool', u'wop', u'word', u'words', u'work', u'world', u'worms', u'worst', u'worth', u'would', u'wreaks', u'wrestling', u'write', u'writer', u'written', u'wrote', u'wwi', u'wwii', u'www', u'wyoming', u'xxinches', u'ya', u'yahoo', u'yakutsk', u'yankee', u'yankees', u'ybarra', u'year', u'years', u'yeat', u'yellow', u'yemen', u'yes', u'yesterdays', u'yet', u'yogi', u'york', u'you', u'yougurt', u'young', u'youngest', u'your', u'yous', u'yousuf', u'zadora', u'zealand', u'zenger', u'zodiacal', u'zolotow', u'zones', u'zorro']\n"
     ]
    }
   ],
   "source": [
    "vocab = vectorizer.get_feature_names()\n",
    "print(vocab)"
   ]
  },
  {
   "cell_type": "code",
   "execution_count": 51,
   "metadata": {
    "collapsed": false
   },
   "outputs": [],
   "source": [
    "# Preapre, Preprocess Test Data\n",
    "def preapare_test_data(X_Test):\n",
    "    X_Test= map(str.lower,X_Test)\n",
    "    X_Test = remove_questionmark(X_Test)\n",
    "    X_Test = map(str.rstrip,X_Test)\n",
    "    X_Test = remove_numbers(X_Test)\n",
    "\n",
    "    #Test data preapre\n",
    "    #vectorizer = CountVectorizer(analyzer=\"word\", preprocessor=None, tokenizer=None, stop_words=None, max_features=5000)\n",
    "    test_data_features = vectorizer.transform(X_Test)\n",
    "    # Numpy arrays are easy to work with, so convert the result to an array\n",
    "    test_data_features = test_data_features.toarray()\n",
    "    return test_data_features\n",
    "\n",
    "test_data_features = preapare_test_data(X_Test)\n",
    "    #print('The dimension of test_data_features is {}.'.format(test_data_features.shape))"
   ]
  },
  {
   "cell_type": "code",
   "execution_count": 52,
   "metadata": {
    "collapsed": false
   },
   "outputs": [
    {
     "name": "stdout",
     "output_type": "stream",
     "text": [
      "Random Forest Accuracy: 95.48\n"
     ]
    }
   ],
   "source": [
    "from sklearn.cross_validation import cross_val_score\n",
    "from sklearn.ensemble import RandomForestClassifier\n",
    "\n",
    "def run_rfClassifier():\n",
    "    rf_clf = RandomForestClassifier(n_estimators=100, n_jobs=-1, random_state=0) \n",
    "\n",
    "    # Cross validation to evaluate the performance of Random Forest\n",
    "    rf_clf_error = cross_val_score(rf_clf, train_data_features, encoded_y, \n",
    "                                       cv=5, scoring='accuracy', n_jobs=-1).mean()\n",
    "\n",
    "    print('Random Forest Accuracy: {:.4}'.format(rf_clf_error*100))\n",
    "    return rf_clf\n",
    "\n",
    "rf_clf = run_rfClassifier()"
   ]
  },
  {
   "cell_type": "markdown",
   "metadata": {},
   "source": [
    "**Make Predictions**"
   ]
  },
  {
   "cell_type": "code",
   "execution_count": 50,
   "metadata": {
    "collapsed": false
   },
   "outputs": [
    {
     "data": {
      "text/plain": [
       "array(['unknown', 'who', 'what', 'unknown', 'affirmation', 'what', 'when',\n",
       "       'affirmation', 'when', 'when'], dtype=object)"
      ]
     },
     "execution_count": 50,
     "metadata": {},
     "output_type": "execute_result"
    }
   ],
   "source": [
    "rf_clf.fit(train_data_features, encoded_y)\n",
    "\n",
    "# Make predictions\n",
    "y = rf_clf.predict(test_data_features)\n",
    "encoder.inverse_transform(y)"
   ]
  }
 ],
 "metadata": {
  "kernelspec": {
   "display_name": "Python 2",
   "language": "python",
   "name": "python2"
  },
  "language_info": {
   "codemirror_mode": {
    "name": "ipython",
    "version": 2
   },
   "file_extension": ".py",
   "mimetype": "text/x-python",
   "name": "python",
   "nbconvert_exporter": "python",
   "pygments_lexer": "ipython2",
   "version": "2.7.9"
  }
 },
 "nbformat": 4,
 "nbformat_minor": 0
}
